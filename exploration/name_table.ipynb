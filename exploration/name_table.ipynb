{
 "cells": [
  {
   "cell_type": "code",
   "execution_count": null,
   "metadata": {},
   "outputs": [],
   "source": [
    "import pandas as pd\n",
    "import json\n",
    "import re\n",
    "\n",
    "pd.options.display.max_rows = 200"
   ]
  },
  {
   "cell_type": "code",
   "execution_count": 3,
   "metadata": {},
   "outputs": [],
   "source": [
    "names = json.load(open('./optuna_results/final/json/names.json'))\n",
    "# Extract train and test names\n",
    "train_names = names[\"train_names\"]\n",
    "test_names = names[\"test_names\"]"
   ]
  },
  {
   "cell_type": "code",
   "execution_count": 4,
   "metadata": {},
   "outputs": [],
   "source": [
    "# Function to categorize airfoils based on naming conventions\n",
    "def categorize_airfoils(names):\n",
    "    categories = {}\n",
    "    for name in names:\n",
    "        # Identify family based on common prefixes\n",
    "        match = re.match(r\"([a-zA-Z]+)\", name)  # Extract alphabetic prefix\n",
    "        family = match.group(1) if match else \"Unknown\"\n",
    "        \n",
    "        if family not in categories:\n",
    "            categories[family] = []\n",
    "        categories[family].append(name)\n",
    "    \n",
    "    return categories"
   ]
  },
  {
   "cell_type": "code",
   "execution_count": null,
   "metadata": {},
   "outputs": [],
   "source": [
    "train_categories = categorize_airfoils(train_names)\n",
    "test_categories = categorize_airfoils(test_names)\n",
    "\n",
    "train_df = pd.DataFrame([(family, len(names)) for family, names in train_categories.items()], columns=[\"Family\", \"Train Count\"])\n",
    "test_df = pd.DataFrame([(family, len(names)) for family, names in test_categories.items()], columns=[\"Family\", \"Test Count\"])\n",
    "\n",
    "merged_df = pd.merge(train_df, test_df, on=\"Family\", how=\"outer\").fillna(0).sort_values(by=\"Train Count\", ascending=False)\n"
   ]
  },
  {
   "cell_type": "code",
   "execution_count": null,
   "metadata": {},
   "outputs": [],
   "source": [
    "merged_df.iterrows()"
   ]
  },
  {
   "cell_type": "code",
   "execution_count": null,
   "metadata": {},
   "outputs": [],
   "source": [
    "no_train_rep = []\n",
    "\n",
    "for family in test_categories:\n",
    "    for _, row in merged_df.iterrows():\n",
    "        if row['Family'] == family:\n",
    "            if row['Train Count'] == 0 and row['Test Count'] > 0:\n",
    "                no_train_rep.append(row['Family'])"
   ]
  },
  {
   "cell_type": "code",
   "execution_count": 88,
   "metadata": {},
   "outputs": [],
   "source": [
    "filtered_df = merged_df[\n",
    "    (merged_df['Family'].isin(test_categories)) & \n",
    "    (merged_df['Train Count'] == 0) & \n",
    "    (merged_df['Test Count'] > 0)\n",
    "]\n",
    "\n",
    "no_train_rep = filtered_df['Family'].tolist()"
   ]
  },
  {
   "cell_type": "code",
   "execution_count": null,
   "metadata": {},
   "outputs": [],
   "source": [
    "no_train_rep"
   ]
  },
  {
   "cell_type": "code",
   "execution_count": null,
   "metadata": {},
   "outputs": [],
   "source": [
    "'fx63137' in train_categories['fx']"
   ]
  },
  {
   "cell_type": "code",
   "execution_count": 12,
   "metadata": {},
   "outputs": [],
   "source": [
    "merged_df.reset_index(inplace=True, drop=True)"
   ]
  },
  {
   "cell_type": "code",
   "execution_count": null,
   "metadata": {},
   "outputs": [],
   "source": [
    "def compute_test_perc(df):\n",
    "    df['Test Perc'] = df.apply(\n",
    "        lambda row: f'{row['Test Count'] / (row['Train Count'] + row['Test Count']):.2%}' if (row['Train Count'] + row['Test Count']) > 0 else 0,\n",
    "        axis=1\n",
    "    )\n",
    "    return df\n",
    "\n",
    "\n",
    "def compute_train_perc(df):\n",
    "    df['Train Perc'] = df.apply(\n",
    "        lambda row: f'{row['Train Count'] / (row['Train Count'] + row['Test Count']):.2%}' if (row['Train Count'] + row['Test Count']) > 0 else 0,\n",
    "        axis=1\n",
    "    )\n",
    "    return df"
   ]
  },
  {
   "cell_type": "code",
   "execution_count": 95,
   "metadata": {},
   "outputs": [],
   "source": [
    "df = merged_df.copy()"
   ]
  },
  {
   "cell_type": "code",
   "execution_count": null,
   "metadata": {},
   "outputs": [],
   "source": [
    "df = df.pipe(compute_train_perc).pipe(compute_test_perc)"
   ]
  },
  {
   "cell_type": "code",
   "execution_count": 102,
   "metadata": {},
   "outputs": [],
   "source": [
    "df['Family'] = df['Family'].apply(lambda x: x.upper())"
   ]
  },
  {
   "cell_type": "code",
   "execution_count": 103,
   "metadata": {},
   "outputs": [],
   "source": [
    "df['Family'] = df['Family'].str.upper()"
   ]
  },
  {
   "cell_type": "code",
   "execution_count": 104,
   "metadata": {},
   "outputs": [],
   "source": [
    "df.to_csv('names.csv')"
   ]
  },
  {
   "cell_type": "code",
   "execution_count": null,
   "metadata": {},
   "outputs": [],
   "source": [
    "merged_df"
   ]
  }
 ],
 "metadata": {
  "kernelspec": {
   "display_name": "venv",
   "language": "python",
   "name": "python3"
  },
  "language_info": {
   "codemirror_mode": {
    "name": "ipython",
    "version": 3
   },
   "file_extension": ".py",
   "mimetype": "text/x-python",
   "name": "python",
   "nbconvert_exporter": "python",
   "pygments_lexer": "ipython3",
   "version": "3.12.7"
  }
 },
 "nbformat": 4,
 "nbformat_minor": 2
}
