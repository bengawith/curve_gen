{
 "cells": [
  {
   "cell_type": "code",
   "execution_count": null,
   "metadata": {},
   "outputs": [],
   "source": [
    "'''\n",
    "Script in which the resultant best HP's from optuna runs are used for model architectures, they are then trained and evaluated.\n",
    "\n",
    "res: dict containing for each loss function and each model, the resultant metrics from evaluation.\n",
    "'''"
   ]
  },
  {
   "cell_type": "code",
   "execution_count": 1,
   "metadata": {},
   "outputs": [],
   "source": [
    "import sys\n",
    "sys.path.append(\"../\")"
   ]
  },
  {
   "cell_type": "code",
   "execution_count": null,
   "metadata": {},
   "outputs": [
    {
     "name": "stderr",
     "output_type": "stream",
     "text": [
      "/home/bengawith/workspaces/github.com/bengawith/project/venv/lib/python3.12/site-packages/tqdm/auto.py:21: TqdmWarning: IProgress not found. Please update jupyter and ipywidgets. See https://ipywidgets.readthedocs.io/en/stable/user_install.html\n",
      "  from .autonotebook import tqdm as notebook_tqdm\n"
     ]
    }
   ],
   "source": [
    "import os\n",
    "import json\n",
    "from src.utils_ import load_json, set_seed\n",
    "import pandas as pd\n",
    "from src.data_ import DataPrep\n",
    "\n",
    "set_seed(42)"
   ]
  },
  {
   "cell_type": "code",
   "execution_count": 3,
   "metadata": {},
   "outputs": [],
   "source": [
    "dp = DataPrep('../data/csv/14KP_48CLA.csv')\n",
    "data = dp.get_data()\n",
    "\n",
    "en_d = {\n",
    "    'Standard_GRUModel_top_trials.json': 'GRUModel',\n",
    "    'Standard_LSTMModel_top_trials.json': 'LSTMModel',\n",
    "    'Standard_FullyConnectedNN_top_trials.json': 'FullyConnectedNN',\n",
    "    'Standard_CNNModel_top_trials.json': 'CNNModel',\n",
    "    'FeatureBinning_GRUModel_top_trials.json': 'GRUModel',\n",
    "    'FeatureBinning_LSTMModel_top_trials.json': 'LSTMModel',\n",
    "    'FeatureBinning_FullyConnectedNN_top_trials.json': 'FullyConnectedNN',\n",
    "    'FeatureBinning_CNNModel_top_trials.json': 'CNNModel',\n",
    "}"
   ]
  },
  {
   "cell_type": "code",
   "execution_count": 7,
   "metadata": {},
   "outputs": [],
   "source": [
    "res = json.load(open('./final/json/final_res.json', 'r'))"
   ]
  },
  {
   "cell_type": "code",
   "execution_count": null,
   "metadata": {},
   "outputs": [],
   "source": [
    "from model_tune_anal import process_file_2\n",
    "\n",
    "res = {}\n",
    "\n",
    "res, results = process_file_2(data, res)"
   ]
  },
  {
   "cell_type": "code",
   "execution_count": 7,
   "metadata": {},
   "outputs": [],
   "source": [
    "old_res = json.load(open('./final/json/final_res.json', 'r'))\n",
    "old_results = json.load(open('./final/json/final_results.json', 'r'))"
   ]
  },
  {
   "cell_type": "code",
   "execution_count": null,
   "metadata": {},
   "outputs": [],
   "source": [
    "for lf in results:\n",
    "    for net in results[lf]:\n",
    "        for metric in results[lf][net]:\n",
    "            if metric == 'r2' and results[lf][net][metric] > old_results[lf][net][metric]:\n",
    "                print('results', lf, net, metric, results[lf][net][metric])\n",
    "                print('old_results', lf, net, metric, old_results[lf][net][metric])"
   ]
  },
  {
   "cell_type": "code",
   "execution_count": 14,
   "metadata": {},
   "outputs": [],
   "source": [
    "temp = {\n",
    "    \"res\": old_res,\n",
    "    \"results\": old_results\n",
    "}"
   ]
  },
  {
   "cell_type": "code",
   "execution_count": 16,
   "metadata": {},
   "outputs": [],
   "source": [
    "for k, v in temp.items():\n",
    "    with open(f'./final/json/{k}.json', 'w') as f:\n",
    "        json.dump(v, f, indent=4)"
   ]
  },
  {
   "cell_type": "code",
   "execution_count": 26,
   "metadata": {},
   "outputs": [],
   "source": [
    "top_dict = {\n",
    "    'pi': {\n",
    "        'r2':{'score': 0, 'net': None},\n",
    "        'mse': {'score': float('inf'), 'net': None},\n",
    "        'rmse': {'score': float('inf'), 'net': None},\n",
    "        'mae': {'score': float('inf'), 'net': None,}\n",
    "    },    \n",
    "    'pi_new': {\n",
    "        'r2':{'score': 0, 'net': None},\n",
    "        'mse': {'score': float('inf'), 'net': None},\n",
    "        'rmse': {'score': float('inf'), 'net': None},\n",
    "        'mae': {'score': float('inf'), 'net': None,}\n",
    "    },\n",
    "    'huber': {\n",
    "        'r2':{'score': 0, 'net': None},\n",
    "        'mse': {'score': float('inf'), 'net': None},\n",
    "        'rmse': {'score': float('inf'), 'net': None},\n",
    "        'mae': {'score': float('inf'), 'net': None,}\n",
    "    },\n",
    "    'mse': {\n",
    "        'r2':{'score': 0, 'net': None},\n",
    "        'mse': {'score': float('inf'), 'net': None},\n",
    "        'rmse': {'score': float('inf'), 'net': None},\n",
    "        'mae': {'score': float('inf'), 'net': None,}\n",
    "    },\n",
    "    'log_cosh': {\n",
    "        'r2':{'score': 0, 'net': None},\n",
    "        'mse': {'score': float('inf'), 'net': None},\n",
    "        'rmse': {'score': float('inf'), 'net': None},\n",
    "        'mae': {'score': float('inf'), 'net': None,}\n",
    "    }\n",
    "}\n",
    "\n",
    "for lf in results:\n",
    "    for net in results[lf]:\n",
    "        for metric in results[lf][net]:\n",
    "            if metric != 'r2':\n",
    "                if results[lf][net][metric] < top_dict[lf][metric]['score']:\n",
    "                    top_dict[lf][metric]['score'] = results[lf][net][metric]\n",
    "                    top_dict[lf][metric]['net'] = net\n",
    "            else:\n",
    "                if results[lf][net][metric] > top_dict[lf][metric]['score']:\n",
    "                    top_dict[lf][metric]['score'] = results[lf][net][metric]\n",
    "                    top_dict[lf][metric]['net'] = net\n"
   ]
  },
  {
   "cell_type": "code",
   "execution_count": null,
   "metadata": {},
   "outputs": [],
   "source": [
    "top_dict"
   ]
  },
  {
   "cell_type": "code",
   "execution_count": 28,
   "metadata": {},
   "outputs": [],
   "source": [
    "results['top_dict'] = top_dict"
   ]
  },
  {
   "cell_type": "code",
   "execution_count": 3,
   "metadata": {},
   "outputs": [],
   "source": [
    "import json\n",
    "\n",
    "results = json.load(open('./final/json/final_results.json'))"
   ]
  },
  {
   "cell_type": "code",
   "execution_count": 17,
   "metadata": {},
   "outputs": [],
   "source": [
    "pi_res = old_results['pi']\n",
    "huber_res = old_results['huber']\n",
    "mse_res = old_results['mse']\n",
    "log_cosh_res = old_results['log_cosh']"
   ]
  },
  {
   "cell_type": "code",
   "execution_count": 31,
   "metadata": {},
   "outputs": [],
   "source": [
    "top_res = results['top_dict']"
   ]
  },
  {
   "cell_type": "code",
   "execution_count": 32,
   "metadata": {},
   "outputs": [],
   "source": [
    "top_res_df = pd.DataFrame.from_dict(top_res, orient='index')"
   ]
  },
  {
   "cell_type": "code",
   "execution_count": null,
   "metadata": {},
   "outputs": [],
   "source": [
    "top_res_df"
   ]
  },
  {
   "cell_type": "code",
   "execution_count": null,
   "metadata": {},
   "outputs": [],
   "source": [
    "rows = []\n",
    "for method, metrics in top_res.items():\n",
    "    for metric, values in metrics.items():\n",
    "        rows.append({\n",
    "            'Loss Func': method,\n",
    "            'Metric': metric,\n",
    "            'Score': values['score'],\n",
    "            'Model': values['net']\n",
    "        })"
   ]
  },
  {
   "cell_type": "code",
   "execution_count": null,
   "metadata": {},
   "outputs": [],
   "source": [
    "top_dict_df = pd.DataFrame(rows)"
   ]
  },
  {
   "cell_type": "code",
   "execution_count": 37,
   "metadata": {},
   "outputs": [],
   "source": [
    "os.makedirs('csv/final', exist_ok=True)\n",
    "top_dict_df.to_csv('csv/final/top_results.csv')"
   ]
  },
  {
   "cell_type": "code",
   "execution_count": 38,
   "metadata": {},
   "outputs": [],
   "source": [
    "with open('final_results.json', 'w') as f:\n",
    "    json.dump(results, f, indent=4)"
   ]
  },
  {
   "cell_type": "code",
   "execution_count": 18,
   "metadata": {},
   "outputs": [],
   "source": [
    "import pandas as pd\n",
    "pi_res_df = pd.DataFrame.from_dict(pi_res, orient='index').T\n",
    "huber_res_df = pd.DataFrame.from_dict(huber_res, orient='index').T\n",
    "mse_res_df = pd.DataFrame.from_dict(mse_res, orient='index').T\n",
    "log_cosh_res_df = pd.DataFrame.from_dict(log_cosh_res, orient='index').T"
   ]
  },
  {
   "cell_type": "code",
   "execution_count": null,
   "metadata": {},
   "outputs": [],
   "source": [
    "for name, res_df in {'pi': pi_res_df, 'huber': huber_res_df, 'mse': mse_res_df, 'log_cosh': log_cosh_res_df}.items():\n",
    "    res_df.to_csv(f'optuna_results/csv/{name.split(\"_\")[0]}_results.csv')"
   ]
  }
 ],
 "metadata": {
  "kernelspec": {
   "display_name": "venv",
   "language": "python",
   "name": "python3"
  },
  "language_info": {
   "codemirror_mode": {
    "name": "ipython",
    "version": 3
   },
   "file_extension": ".py",
   "mimetype": "text/x-python",
   "name": "python",
   "nbconvert_exporter": "python",
   "pygments_lexer": "ipython3",
   "version": "3.12.3"
  }
 },
 "nbformat": 4,
 "nbformat_minor": 2
}
