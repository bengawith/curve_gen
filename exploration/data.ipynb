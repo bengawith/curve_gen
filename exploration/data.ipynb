{
 "cells": [
  {
   "cell_type": "code",
   "execution_count": 1,
   "metadata": {},
   "outputs": [],
   "source": [
    "import sys\n",
    "sys.path.append(\"../\")"
   ]
  },
  {
   "cell_type": "code",
   "execution_count": null,
   "metadata": {},
   "outputs": [],
   "source": [
    "import pandas as pd\n",
    "import numpy as np\n",
    "import seaborn as sns\n",
    "import matplotlib.pyplot as plt\n",
    "from src.utils_ import find_file\n",
    "pd.set_option(\"display.max_columns\", None, \"display.max_rows\", None, \"display.max_colwidth\", None, \"display.precision\", 4, \"display.float_format\", \"{:,.4f}\".format, \"display.max_colwidth\", None)"
   ]
  },
  {
   "cell_type": "code",
   "execution_count": null,
   "metadata": {},
   "outputs": [],
   "source": [
    "df = pd.read_csv(find_file(file=\"14KP_48CLA.csv\"))\n",
    "\n",
    "X_cols = [f\"lower_weight_{i}\" for i in range(6)] + [f\"upper_weight_{i}\" for i in range(6)] + [\"TE_thickness\", \"leading_edge_weight\"]\n",
    "y_cols = [f\"CL_{i}\" for i in range(48)] + [f\"alpha_{i}\" for i in range(48)]"
   ]
  },
  {
   "cell_type": "code",
   "execution_count": null,
   "metadata": {},
   "outputs": [],
   "source": [
    "print(\"Dataset Overview:\")\n",
    "print(df.shape)\n",
    "df.head()"
   ]
  },
  {
   "cell_type": "code",
   "execution_count": null,
   "metadata": {},
   "outputs": [],
   "source": [
    "print(\"Missing Values:\")\n",
    "df.isnull().sum()"
   ]
  },
  {
   "cell_type": "code",
   "execution_count": null,
   "metadata": {},
   "outputs": [],
   "source": [
    "print(\"Feature Summary:\")\n",
    "df.describe()"
   ]
  },
  {
   "cell_type": "code",
   "execution_count": null,
   "metadata": {},
   "outputs": [],
   "source": [
    "print(\"Label Summary (CL & Alpha):\")\n",
    "df[y_cols].describe()"
   ]
  },
  {
   "cell_type": "code",
   "execution_count": null,
   "metadata": {},
   "outputs": [],
   "source": [
    "print(\"Feature distributions:\")\n",
    "for col in X_cols:\n",
    "    plt.figure(figsize=(6, 3))\n",
    "    sns.histplot(df[col], kde=True, bins=30)\n",
    "    plt.title(f\"Distribution of {col}\")\n",
    "    plt.grid(True)\n",
    "    plt.tight_layout()\n",
    "    plt.show()"
   ]
  },
  {
   "cell_type": "code",
   "execution_count": null,
   "metadata": {},
   "outputs": [],
   "source": [
    "print(\"Correlation heatmap:\")\n",
    "corr = df[X_cols].corr(numeric_only=True)\n",
    "plt.figure(figsize=(10, 8))\n",
    "sns.heatmap(corr, annot=True, cmap=\"coolwarm\", fmt=\".2f\")\n",
    "plt.title(\"Feature Correlation Heatmap\")\n",
    "plt.tight_layout()\n",
    "plt.show()"
   ]
  },
  {
   "cell_type": "code",
   "execution_count": null,
   "metadata": {},
   "outputs": [],
   "source": [
    "print(\"Plotting sample lift curves...\")\n",
    "sample_ids = df.sample(3, random_state=42).index\n",
    "for idx in sample_ids:\n",
    "    cl = df.loc[idx, [f\"CL_{i}\" for i in range(48)]].values\n",
    "    alpha = df.loc[idx, [f\"alpha_{i}\" for i in range(48)]].values\n",
    "    label = df.loc[idx, 'aerofoil_name'] if 'aerofoil_name' in df.columns else f\"Sample {idx}\"\n",
    "    \n",
    "    plt.plot(alpha, cl, label=label)\n",
    "\n",
    "plt.xlabel(\"Angle of Attack (α)\")\n",
    "plt.ylabel(\"Lift Coefficient (CL)\")\n",
    "plt.title(\"CL vs Alpha (Sample Aerofoils)\")\n",
    "plt.legend()\n",
    "plt.grid(True)\n",
    "plt.show()"
   ]
  },
  {
   "cell_type": "code",
   "execution_count": null,
   "metadata": {},
   "outputs": [],
   "source": [
    "for target_col in y_cols:\n",
    "    print(f\"Correlation to {target_col}:\")\n",
    "    target_corr = df[X_cols + [target_col]].corr()[target_col].drop(target_col)\n",
    "    print(target_corr.sort_values(ascending=False), \"\\n\")\n"
   ]
  },
  {
   "cell_type": "code",
   "execution_count": null,
   "metadata": {},
   "outputs": [],
   "source": [
    "print(\"Plotting correlation heatmap against all targets:\")\n",
    "for target_col in y_cols:\n",
    "    plt.figure(figsize=(10, 8))\n",
    "    target_corr = df[X_cols + [target_col]].corr()[target_col].drop(target_col)\n",
    "    sns.heatmap(target_corr.to_frame(), annot=True, cmap=\"coolwarm\", fmt=\".2f\")\n",
    "    plt.title(f\"Correlation Heatmap for {target_col}\")\n",
    "    plt.tight_layout()\n",
    "    plt.show()"
   ]
  }
 ],
 "metadata": {
  "kernelspec": {
   "display_name": "venv",
   "language": "python",
   "name": "python3"
  },
  "language_info": {
   "codemirror_mode": {
    "name": "ipython",
    "version": 3
   },
   "file_extension": ".py",
   "mimetype": "text/x-python",
   "name": "python",
   "nbconvert_exporter": "python",
   "pygments_lexer": "ipython3",
   "version": "3.12.7"
  }
 },
 "nbformat": 4,
 "nbformat_minor": 2
}
