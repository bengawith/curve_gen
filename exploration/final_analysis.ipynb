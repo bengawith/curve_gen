{
 "cells": [
  {
   "cell_type": "code",
   "execution_count": 1,
   "metadata": {},
   "outputs": [],
   "source": [
    "import sys\n",
    "sys.path.append('./')"
   ]
  },
  {
   "cell_type": "code",
   "execution_count": null,
   "metadata": {},
   "outputs": [],
   "source": [
    "import torch\n",
    "import json\n",
    "import pandas as pd\n",
    "import matplotlib.pyplot as plt\n",
    "from src.utils_ import set_seed, evaluate_aerofoil_predictions, find_file, read_coords\n",
    "from src.models_ import instantiate_model\n",
    "from src.data_ import DataPrep\n",
    "from src.db import DataDB\n",
    "\n",
    "from numpy import set_printoptions\n",
    "set_printoptions(precision=4, suppress=True)\n",
    "\n",
    "set_seed(42)"
   ]
  },
  {
   "cell_type": "code",
   "execution_count": 3,
   "metadata": {},
   "outputs": [],
   "source": [
    "def filter_names(prefix: str = '', set: str = 'test') -> list:\n",
    "    names_path = find_file('names.json', 'lap')\n",
    "    names = json.load(open(names_path, \"r\"))\n",
    "    if set == 'train':\n",
    "        return [name for name in sorted(names['train_names']) if name.startswith(prefix)]\n",
    "    if set == 'test':\n",
    "        return [name for name in sorted(names['test_names']) if name.startswith(prefix)]"
   ]
  },
  {
   "cell_type": "code",
   "execution_count": 4,
   "metadata": {},
   "outputs": [],
   "source": [
    "CSV_PATH = './data/csv/14KP_48CLA.csv'\n",
    "\n",
    "data_prep = DataPrep(csv_path=CSV_PATH)\n",
    "data = data_prep.get_data()"
   ]
  },
  {
   "cell_type": "code",
   "execution_count": 5,
   "metadata": {},
   "outputs": [],
   "source": [
    "db = DataDB()\n",
    "params = db.query_single(collection=DataDB.TUNE_COLL, network='GRUModel')"
   ]
  },
  {
   "cell_type": "code",
   "execution_count": null,
   "metadata": {},
   "outputs": [],
   "source": [
    "model = instantiate_model(net_name=params['network'], input_size=data['input_size'], output_size=data['output_size'], params=params['best_params'])\n",
    "model.load_state_dict(torch.load('./models/log_cosh/GRUModel.pt', map_location=torch.device('cpu')))"
   ]
  },
  {
   "cell_type": "code",
   "execution_count": 7,
   "metadata": {},
   "outputs": [],
   "source": [
    "clark = filter_names(\"clar\", \"test\")"
   ]
  },
  {
   "cell_type": "code",
   "execution_count": null,
   "metadata": {},
   "outputs": [],
   "source": [
    "clark"
   ]
  },
  {
   "cell_type": "code",
   "execution_count": null,
   "metadata": {},
   "outputs": [],
   "source": [
    "import re\n",
    "\n",
    "eppler = []\n",
    "for af in e:\n",
    "    if re.match(r'^e\\d+.*', af, re.IGNORECASE):\n",
    "        eppler.append(af)"
   ]
  },
  {
   "cell_type": "code",
   "execution_count": null,
   "metadata": {},
   "outputs": [],
   "source": [
    "len(eppler)"
   ]
  },
  {
   "cell_type": "code",
   "execution_count": null,
   "metadata": {},
   "outputs": [],
   "source": [
    "def plot_curve(aeros: list) -> dict:\n",
    "    df = pd.read_csv(CSV_PATH)\n",
    "\n",
    "    curve_dict = {}\n",
    "\n",
    "    for aero in aeros:\n",
    "        temp = df[df['aerofoil_name'] == aero]\n",
    "\n",
    "        alpha_values = [f\"alpha_{i}\" for i in range(48)]\n",
    "        cl_values = [f\"CL_{i}\" for i in range(48)]\n",
    "        x = temp[alpha_values].values.flatten().tolist()\n",
    "        y = temp[cl_values].values.flatten().tolist()\n",
    "\n",
    "        plt.figure(figsize=(8, 6))\n",
    "        plt.plot(x, y, '-', label=aero)\n",
    "        plt.xlabel(\"Angle of Attack (Alpha)\")\n",
    "        plt.ylabel(\"Lift Coefficient (CL)\")\n",
    "        plt.legend()\n",
    "        plt.grid(True)\n",
    "        plt.show()\n",
    "\n",
    "        curve_dict[aero] = {'alpha': x, 'CL': y}\n",
    "\n",
    "    return curve_dict\n",
    "\n",
    "\n",
    "def plot_aero(aeros):\n",
    "    for aero in aeros:\n",
    "        coords = read_coords(aero)\n",
    "        \n",
    "        x = [x[0] for x in coords]\n",
    "        y = [x[1] for x in coords]\n",
    "\n",
    "        plt.style.use('bmh')\n",
    "\n",
    "        plt.ylim((-0.5, 0.5))\n",
    "        plt.plot(x, y, label=f'{aero.upper()}')\n",
    "        plt.legend(fontsize='small')\n",
    "        plt.show()\n"
   ]
  },
  {
   "cell_type": "code",
   "execution_count": null,
   "metadata": {},
   "outputs": [],
   "source": [
    "aeros = ['naca64a210', 'drgnfly', 'fx67k150', 'naca0024', 'naca65206', 'ag19', 'ah93w300']\n",
    "plot_aero(aeros)"
   ]
  },
  {
   "cell_type": "code",
   "execution_count": null,
   "metadata": {},
   "outputs": [],
   "source": [
    "cd = plot_curve(aeros)"
   ]
  },
  {
   "cell_type": "code",
   "execution_count": null,
   "metadata": {},
   "outputs": [],
   "source": [
    "res = evaluate_aerofoil_predictions(\n",
    "    csv_file=CSV_PATH,\n",
    "    model=model,\n",
    "    X_scaler=data['X_scaler'],\n",
    "    y_scaler=data['y_scaler'],\n",
    "    plot_sample=['naca2410']\n",
    ")"
   ]
  },
  {
   "cell_type": "code",
   "execution_count": null,
   "metadata": {},
   "outputs": [],
   "source": [
    "import pandas as pd\n",
    "pd.set_option('display.max_columns', None)\n",
    "df = pd.read_csv('../../data/csv/14KP_48CLA.csv')"
   ]
  },
  {
   "cell_type": "code",
   "execution_count": null,
   "metadata": {},
   "outputs": [],
   "source": [
    "naca2410_df = df[df['aerofoil_name'] == 'naca2410'][[f'alpha_{i}' for i in range(48)] + [f'CL_{i}' for i in range(48)]]"
   ]
  },
  {
   "cell_type": "code",
   "execution_count": null,
   "metadata": {},
   "outputs": [],
   "source": [
    "predictions = res['naca2410']['predictions']\n",
    "for i in range(48):\n",
    "    print(f'Alpha {i}:', round(predictions[i+48], 4), f'CL {i}:', round(predictions[i], 4))\n"
   ]
  },
  {
   "cell_type": "code",
   "execution_count": null,
   "metadata": {},
   "outputs": [],
   "source": [
    "preds = {}\n",
    "for i in range(len(predictions)//2):\n",
    "    preds[i] = {\n",
    "        'alpha': round(predictions[i+48], 4),\n",
    "        'CL': round(predictions[i], 4)\n",
    "    }"
   ]
  },
  {
   "cell_type": "code",
   "execution_count": null,
   "metadata": {},
   "outputs": [],
   "source": [
    "for i in preds:\n",
    "    print(f'Alpha {i}:', preds[i]['alpha'], f'CL {i}:', preds[i]['CL'])"
   ]
  },
  {
   "cell_type": "code",
   "execution_count": 13,
   "metadata": {},
   "outputs": [],
   "source": [
    "import numpy as np\n",
    "\n",
    "u_inf = 14.71\n",
    "alphas = [i for i in range(-15, 19)]\n",
    "alphas = np.array(alphas)"
   ]
  },
  {
   "cell_type": "code",
   "execution_count": 14,
   "metadata": {},
   "outputs": [],
   "source": [
    "components = {}\n",
    "for alpha in alphas:\n",
    "    components[int(alpha)] = {\n",
    "        'drag_components': {\n",
    "            'x': float(round(np.cos(np.deg2rad(alpha)), 6)),\n",
    "            'y': float(round(np.sin(np.deg2rad(alpha)), 6))\n",
    "        },\n",
    "        'lift_components': {\n",
    "            'x': float(round(-np.sin(np.deg2rad(alpha)), 6)),\n",
    "            'y': float(round(np.cos(np.deg2rad(alpha)), 6))\n",
    "        },\n",
    "        'vel_components': {\n",
    "            'x': float(round(u_inf * np.cos(np.deg2rad(alpha)), 6)),\n",
    "            'y': float(round(u_inf * np.sin(np.deg2rad(alpha)), 6)),\n",
    "        }\n",
    "    }"
   ]
  },
  {
   "cell_type": "code",
   "execution_count": 15,
   "metadata": {},
   "outputs": [],
   "source": [
    "def get_components(alpha):\n",
    "    print(f\"Alpha: {alpha}\")\n",
    "    \n",
    "    print(f\"Drag Components: X: {components[alpha]['drag_components']['x']}, Y: {components[alpha]['drag_components']['y']}\")\n",
    "    print(f\"Lift Components: X: {components[alpha]['lift_components']['x']}, Y: {components[alpha]['lift_components']['y']}\")\n",
    "    print(f\"Velocity Components: X: {components[alpha]['vel_components']['x']}, Y: {components[alpha]['vel_components']['y']}\")"
   ]
  },
  {
   "cell_type": "code",
   "execution_count": null,
   "metadata": {},
   "outputs": [],
   "source": [
    "get_components(-9)"
   ]
  },
  {
   "cell_type": "code",
   "execution_count": 16,
   "metadata": {},
   "outputs": [],
   "source": [
    "cfd = {\n",
    "    'u_inf': 14.71,\n",
    "    'components': components,\n",
    "    'results': {\n",
    "        -8: -0.63221,\n",
    "        -7: -0.53020,\n",
    "        -6: -0.42648,\n",
    "        -5: -0.32146,\n",
    "        -4: -0.21557,\n",
    "        -3: -0.10915,\n",
    "        -2: -0.0024834,\n",
    "        -1: 0.10419,\n",
    "        0: 0.21037,\n",
    "        1: 0.31696,\n",
    "        2: 0.42302,\n",
    "        3: 0.52855,\n",
    "        4: 0.63308,\n",
    "        5: 0.73606,\n",
    "        6: 0.83716,\n",
    "        7: 0.93613,        \n",
    "        8: 1.0323,\n",
    "        9: 1.1247,\n",
    "        10: 1.2124,\n",
    "        11: 1.2942,\n",
    "        12: 1.3682,\n",
    "        13: 1.4318,\n",
    "        14: 1.4814,\n",
    "        15: 1.5113,\n",
    "        16: 1.2439,\n",
    "        17: 1.6863,\n",
    "    }\n",
    "}\n",
    "\n",
    "t = 10.36\n",
    "F = 161.16"
   ]
  },
  {
   "cell_type": "code",
   "execution_count": 18,
   "metadata": {},
   "outputs": [],
   "source": [
    "import matplotlib.pyplot as plt\n",
    "x = predictions[48:]\n",
    "y = predictions[:48]\n",
    "plt.plot([i for i in range(-8, 18)], [cfd['results'][i] for i in range(-8, 18)])\n",
    "plt.plot(x, y, '--')\n",
    "plt.show()"
   ]
  },
  {
   "cell_type": "code",
   "execution_count": null,
   "metadata": {},
   "outputs": [],
   "source": [
    "for i in range(48):\n",
    "    if (preds[i]['alpha'] // 1) == float(i // 1) - 15:\n",
    "        print(f'Alpha {i}: {preds[i][\"CL\"]}', f'CFD: {cfd[\"results\"][i]}')"
   ]
  },
  {
   "cell_type": "code",
   "execution_count": null,
   "metadata": {},
   "outputs": [],
   "source": [
    "cfd[\"results\"][0]"
   ]
  }
 ],
 "metadata": {
  "kernelspec": {
   "display_name": "venv",
   "language": "python",
   "name": "python3"
  },
  "language_info": {
   "codemirror_mode": {
    "name": "ipython",
    "version": 3
   },
   "file_extension": ".py",
   "mimetype": "text/x-python",
   "name": "python",
   "nbconvert_exporter": "python",
   "pygments_lexer": "ipython3",
   "version": "3.12.7"
  }
 },
 "nbformat": 4,
 "nbformat_minor": 2
}
