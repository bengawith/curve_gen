{
 "cells": [
  {
   "cell_type": "code",
   "execution_count": 2,
   "metadata": {},
   "outputs": [],
   "source": [
    "import os\n",
    "import sys\n",
    "sys.path.append(\"../\")\n"
   ]
  },
  {
   "cell_type": "code",
   "execution_count": null,
   "metadata": {},
   "outputs": [],
   "source": [
    "from time import time\n",
    "from src.utils_ import find_file, run_time, DataDB\n",
    "from src.data_ import DataPrep\n",
    "from src.models_ import instantiate_model, adam\n",
    "from src.train_eval_ import train_model, evaluate_model\n",
    "import pandas as pd"
   ]
  },
  {
   "cell_type": "code",
   "execution_count": 5,
   "metadata": {},
   "outputs": [],
   "source": [
    "start_time = time()\n",
    "\n",
    "files = [\"6KP_48CLA.csv\", \"10KP_48CLA.csv\", \"14KP_48CLA.csv\", \"18KP_48CLA.csv\", \"22KP_48CLA.csv\", \"26KP_48CLA.csv\"]\n",
    "\n",
    "KP6_PATH, KP10_PATH, KP14_PATH, KP18_PATH, KP22_PATH, KP26_PATH = map(lambda f: find_file(f , \"pc\"), files)\n",
    "\n",
    "kp_dict = {\n",
    "    6: KP6_PATH,\n",
    "    10: KP10_PATH,\n",
    "    14: KP14_PATH,\n",
    "    18: KP18_PATH,\n",
    "    22: KP22_PATH,\n",
    "    26: KP26_PATH\n",
    "}\n",
    "\n",
    "os.makedirs(\"./results\", exist_ok=True)"
   ]
  },
  {
   "cell_type": "code",
   "execution_count": 6,
   "metadata": {},
   "outputs": [],
   "source": [
    "db = DataDB()"
   ]
  },
  {
   "cell_type": "code",
   "execution_count": 7,
   "metadata": {},
   "outputs": [],
   "source": [
    "params_list = db.query_all(DataDB.MODEL_COLL, network=\"FullyConnectedNN\")"
   ]
  },
  {
   "cell_type": "code",
   "execution_count": 8,
   "metadata": {},
   "outputs": [],
   "source": [
    "params = params_list[0]"
   ]
  },
  {
   "cell_type": "code",
   "execution_count": null,
   "metadata": {},
   "outputs": [],
   "source": [
    "data_dict = {}\n",
    "res_dict = {}\n",
    "\n",
    "for kp, csv_path in kp_dict.items():\n",
    "    data_prep = DataPrep(\n",
    "        csv_path=csv_path,\n",
    "    )\n",
    "\n",
    "    # Load data\n",
    "    data = data_prep.get_data()\n",
    "    \n",
    "    data_dict[kp] = data\n",
    "\n",
    "    # Instantiate model\n",
    "    model = instantiate_model(\n",
    "        net_name=\"FullyConnectedNN\",\n",
    "        input_size=data['input_size'],\n",
    "        output_size=data['output_size'],\n",
    "        params=params['best_params']\n",
    "    )\n",
    "\n",
    "    # Train model\n",
    "    optimizer = adam(model, learning_rate=params['best_params']['learning_rate'])\n",
    "    train_loss, val_loss = train_model(\n",
    "        model=model,\n",
    "        optimizer=optimizer,\n",
    "        train_loader=data['train_loader'],\n",
    "        val_loader=data['test_loader'],\n",
    "        num_epochs=params['best_params']['num_epochs'],\n",
    "        loss_func_name='log_cosh',\n",
    "    )\n",
    "\n",
    "    metrics_dict = evaluate_model(model, data['test_loader'], data['y_scaler'])\n",
    "\n",
    "    res_dict[kp] = metrics_dict"
   ]
  },
  {
   "cell_type": "code",
   "execution_count": null,
   "metadata": {},
   "outputs": [],
   "source": [
    "top_mse, top_kp = float('inf'), None\n",
    "for kp in res_dict.keys():\n",
    "    print(f\"{kp}KP RMSE:{res_dict[kp]['rmse']:.4f} MSE:{res_dict[kp]['mse']:.4f} R2:{res_dict[kp]['r2']:.4f} MAE:{res_dict[kp]['mae']:.4f}\")\n",
    "    if res_dict[kp]['mse'] < top_mse:\n",
    "        top_mse = res_dict[kp]['mse']\n",
    "        top_kp = kp"
   ]
  },
  {
   "cell_type": "code",
   "execution_count": 36,
   "metadata": {},
   "outputs": [],
   "source": [
    "cols = [\"mse\", \"rmse\", \"r2\", \"mae\"]\n",
    "df = pd.DataFrame(res_dict).T[cols]"
   ]
  },
  {
   "cell_type": "code",
   "execution_count": null,
   "metadata": {},
   "outputs": [],
   "source": [
    "df"
   ]
  },
  {
   "cell_type": "code",
   "execution_count": 32,
   "metadata": {},
   "outputs": [],
   "source": [
    "sorted_items = sorted(res_dict.items(), key=lambda x: x[1]['mse'])"
   ]
  },
  {
   "cell_type": "code",
   "execution_count": null,
   "metadata": {},
   "outputs": [],
   "source": [
    "df.to_csv(\"../kp_results/csv/optim_kp.csv\")"
   ]
  },
  {
   "cell_type": "code",
   "execution_count": null,
   "metadata": {},
   "outputs": [],
   "source": [
    "sorted_items"
   ]
  }
 ],
 "metadata": {
  "kernelspec": {
   "display_name": "venv",
   "language": "python",
   "name": "python3"
  },
  "language_info": {
   "codemirror_mode": {
    "name": "ipython",
    "version": 3
   },
   "file_extension": ".py",
   "mimetype": "text/x-python",
   "name": "python",
   "nbconvert_exporter": "python",
   "pygments_lexer": "ipython3",
   "version": "3.12.3"
  }
 },
 "nbformat": 4,
 "nbformat_minor": 2
}
